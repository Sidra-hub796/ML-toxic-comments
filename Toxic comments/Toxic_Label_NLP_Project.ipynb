{
 "cells": [
  {
   "cell_type": "code",
   "execution_count": null,
   "metadata": {},
   "outputs": [],
   "source": [
    "# Install spaCy (if not already installed)\n",
    "!pip install spacy"
   ]
  },
  {
   "cell_type": "code",
   "execution_count": null,
   "metadata": {},
   "outputs": [],
   "source": [
    "# Install pandas and scikit-learn for data handling and evaluation\n",
    "!pip install pandas scikit-learn"
   ]
  },
  {
   "cell_type": "code",
   "execution_count": 1,
   "metadata": {},
   "outputs": [],
   "source": [
    "# Import libraries\n",
    "import pandas as pd\n",
    "from sklearn.model_selection import train_test_split\n",
    "from sklearn.metrics import classification_report\n",
    "import spacy\n",
    "from spacy.pipeline.textcat import Config, single_label_cnn_config, single_label_bow_config, single_label_default_config\n",
    "from spacy.training import Example\n",
    "from spacy.util import minibatch, compounding\n",
    "from sklearn.utils import resample\n",
    "from sklearn.metrics import confusion_matrix\n",
    "import numpy as np\n",
    "import random\n",
    "import re"
   ]
  },
  {
   "cell_type": "code",
   "execution_count": 2,
   "metadata": {},
   "outputs": [
    {
     "data": {
      "text/html": [
       "<div>\n",
       "<style scoped>\n",
       "    .dataframe tbody tr th:only-of-type {\n",
       "        vertical-align: middle;\n",
       "    }\n",
       "\n",
       "    .dataframe tbody tr th {\n",
       "        vertical-align: top;\n",
       "    }\n",
       "\n",
       "    .dataframe thead th {\n",
       "        text-align: right;\n",
       "    }\n",
       "</style>\n",
       "<table border=\"1\" class=\"dataframe\">\n",
       "  <thead>\n",
       "    <tr style=\"text-align: right;\">\n",
       "      <th></th>\n",
       "      <th>id</th>\n",
       "      <th>comment_text</th>\n",
       "      <th>toxic</th>\n",
       "      <th>severe_toxic</th>\n",
       "      <th>obscene</th>\n",
       "      <th>threat</th>\n",
       "      <th>insult</th>\n",
       "      <th>identity_hate</th>\n",
       "    </tr>\n",
       "  </thead>\n",
       "  <tbody>\n",
       "    <tr>\n",
       "      <th>0</th>\n",
       "      <td>0000997932d777bf</td>\n",
       "      <td>Explanation\\nWhy the edits made under my usern...</td>\n",
       "      <td>0</td>\n",
       "      <td>0</td>\n",
       "      <td>0</td>\n",
       "      <td>0</td>\n",
       "      <td>0</td>\n",
       "      <td>0</td>\n",
       "    </tr>\n",
       "    <tr>\n",
       "      <th>1</th>\n",
       "      <td>000103f0d9cfb60f</td>\n",
       "      <td>D'aww! He matches this background colour I'm s...</td>\n",
       "      <td>0</td>\n",
       "      <td>0</td>\n",
       "      <td>0</td>\n",
       "      <td>0</td>\n",
       "      <td>0</td>\n",
       "      <td>0</td>\n",
       "    </tr>\n",
       "    <tr>\n",
       "      <th>2</th>\n",
       "      <td>000113f07ec002fd</td>\n",
       "      <td>Hey man, I'm really not trying to edit war. It...</td>\n",
       "      <td>0</td>\n",
       "      <td>0</td>\n",
       "      <td>0</td>\n",
       "      <td>0</td>\n",
       "      <td>0</td>\n",
       "      <td>0</td>\n",
       "    </tr>\n",
       "    <tr>\n",
       "      <th>3</th>\n",
       "      <td>0001b41b1c6bb37e</td>\n",
       "      <td>\"\\nMore\\nI can't make any real suggestions on ...</td>\n",
       "      <td>0</td>\n",
       "      <td>0</td>\n",
       "      <td>0</td>\n",
       "      <td>0</td>\n",
       "      <td>0</td>\n",
       "      <td>0</td>\n",
       "    </tr>\n",
       "    <tr>\n",
       "      <th>4</th>\n",
       "      <td>0001d958c54c6e35</td>\n",
       "      <td>You, sir, are my hero. Any chance you remember...</td>\n",
       "      <td>0</td>\n",
       "      <td>0</td>\n",
       "      <td>0</td>\n",
       "      <td>0</td>\n",
       "      <td>0</td>\n",
       "      <td>0</td>\n",
       "    </tr>\n",
       "  </tbody>\n",
       "</table>\n",
       "</div>"
      ],
      "text/plain": [
       "                 id                                       comment_text  toxic  \\\n",
       "0  0000997932d777bf  Explanation\\nWhy the edits made under my usern...      0   \n",
       "1  000103f0d9cfb60f  D'aww! He matches this background colour I'm s...      0   \n",
       "2  000113f07ec002fd  Hey man, I'm really not trying to edit war. It...      0   \n",
       "3  0001b41b1c6bb37e  \"\\nMore\\nI can't make any real suggestions on ...      0   \n",
       "4  0001d958c54c6e35  You, sir, are my hero. Any chance you remember...      0   \n",
       "\n",
       "   severe_toxic  obscene  threat  insult  identity_hate  \n",
       "0             0        0       0       0              0  \n",
       "1             0        0       0       0              0  \n",
       "2             0        0       0       0              0  \n",
       "3             0        0       0       0              0  \n",
       "4             0        0       0       0              0  "
      ]
     },
     "execution_count": 2,
     "metadata": {},
     "output_type": "execute_result"
    }
   ],
   "source": [
    "# Load train.csv\n",
    "train_data = pd.read_csv(\"train.csv\")\n",
    "\n",
    "# Display the first few rows to understand the structure\n",
    "train_data.head()\n"
   ]
  },
  {
   "cell_type": "code",
   "execution_count": null,
   "metadata": {},
   "outputs": [],
   "source": [
    "# Check for missing values and overall dataset structure\n",
    "# print(\"Missing values in the dataset:\")\n",
    "# print(train_data.isnull().sum())\n",
    "# train_data.info()\n",
    "# train_data.describe()"
   ]
  },
  {
   "cell_type": "code",
   "execution_count": 3,
   "metadata": {},
   "outputs": [
    {
     "name": "stdout",
     "output_type": "stream",
     "text": [
      "<class 'pandas.core.frame.DataFrame'>\n",
      "RangeIndex: 159571 entries, 0 to 159570\n",
      "Data columns (total 3 columns):\n",
      " #   Column        Non-Null Count   Dtype \n",
      "---  ------        --------------   ----- \n",
      " 0   id            159571 non-null  object\n",
      " 1   comment_text  159571 non-null  object\n",
      " 2   toxic         159571 non-null  int64 \n",
      "dtypes: int64(1), object(2)\n",
      "memory usage: 3.7+ MB\n"
     ]
    }
   ],
   "source": [
    "# Keep only the 'toxic' label for single-label classification\n",
    "train_data = train_data[['id', 'comment_text', 'toxic']]\n",
    "train_data.info()"
   ]
  },
  {
   "cell_type": "code",
   "execution_count": 4,
   "metadata": {},
   "outputs": [
    {
     "name": "stdout",
     "output_type": "stream",
     "text": [
      "Label distribution:\n",
      "toxic\n",
      "0    144277\n",
      "1     15294\n",
      "Name: count, dtype: int64\n",
      "Training samples: 127656, Validation samples: 31915\n"
     ]
    }
   ],
   "source": [
    "# Define input (comments) and output (labels)\n",
    "X = train_data['comment_text']\n",
    "y = train_data['toxic']  # Single label for toxicity\n",
    "\n",
    "# Inspect label distribution\n",
    "print(\"Label distribution:\")\n",
    "print(y.value_counts())  # Check class counts\n",
    "\n",
    "# Split the data (80% train, 20% validation)\n",
    "X_train, X_val, y_train, y_val = train_test_split(X, y, test_size=0.2, random_state=42)\n",
    "\n",
    "print(f\"Training samples: {len(X_train)}, Validation samples: {len(X_val)}\")"
   ]
  },
  {
   "cell_type": "code",
   "execution_count": 5,
   "metadata": {},
   "outputs": [
    {
     "name": "stdout",
     "output_type": "stream",
     "text": [
      "Sample processed data (spaCy format):\n",
      "[('Grandma Terri Should Burn in Trash \\nGrandma Terri is trash. I hate Grandma Terri. F%%K her to HELL! 71.74.76.40', {'cats': {'toxic': True, 'non_toxic': False}}), (', 9 May 2009 (UTC)\\nIt would be easiest if you were to admit to being a member of the involved Portuguese Lodge, and then there would be no requirement to acknowledge whether you had a previous account (Carlos Botelho did not have a good record) or not and I would then remove the sockpuppet template as irrelevant. WP:COI permits people to edit those articles, such as MSJapan does, but just means you have to be more careful in ensuring that references back your edits and that NPOV is upheld.   20:29', {'cats': {'toxic': False, 'non_toxic': True}}), ('\"\\n\\nThe Objectivity of this Discussion is doubtful (non-existent)\\n\\n(1) As indicated earlier, the section on Marxist leaders’ views is misleading:\\n\\n(a) it lays unwarranted and excessive emphasis on Trotsky, creating the misleading impression that other prominent Marxists (Marx, Engels, Lenin) did not advocate and/or practiced terrorism;\\n\\n(b) it lays unwarranted and excessive emphasis on the theoretical “rejection of individual terrorism”, creating the misleading impression that this is the main (only) Marxist position on terrorism. \\n\\n(2) The discussion is not being properly monitored:\\n\\n(a) no discernible attempt is being made to establish and maintain an acceptable degree of objectivity;\\n\\n(b) important and relevant scholarly works such as the International Encyclopedia of Terrorism are being ignored or illicitly excluded from the discussion;\\n\\n(c) though the only logical way to remedy the blatant imbalance in the above section is to include quotes by/on other leaders who are known to have endorsed and practiced terrorism all attempts to do so have been systematically blocked with impunity by the apologists for Marxist terrorism who have done their best to sabotage and wreck both the article and the discussion.\\n\\n(3) Among the tactics deployed by the apologist wreckers and saboteurs the following may be identified as representative examples:\\n\\n(a) it is claimed that Marx and Engels did not advocate terrorism despite the fact that scholarly works like the International Encyclopedia of Terrorism show that they did, and Marx himself was known as “The Red Terror Doctor”;\\n\\n(b) it is claimed that Marx and Engels were not involved in terrorist activities despite the fact that numerous sources from The Neue Rheinische Zeitung to Isaiah Berlin and Francis Wheen state otherwise;\\n\\n(c) it is claimed that Lenin does not refer to terror in The Proletarian Revolution and the Renegade K. Kautsky and other works/statements despite the fact that Robert Service, IET, and other scholarly and reliable sources state that he does;\\n\\n(d) it is claimed that the Russian word ‘’strakh’’ does not mean “terror” when:\\n\\ni. the Oxford Russian Dictionary says that it does;\\n\\nii. it is evident from the context that this is the case;\\n\\niii. any educated Russian speaker can confirm that strakh may mean “terror” depending on the context;\\n\\n(e) it is claimed that Marxism is “scientific” when in fact:\\n\\ni. Marx was not a scientist;\\n\\nii. Marx’s background was philosophy and law, not science;\\n\\niii. Marxism is not recognized as a science by the academic world;\\n\\niv. virtually every one of Marx’s predictions turned out to be wrong, as became increasingly apparent during his lifetime and incontrovertibly so after his death (R. Pipes, Communism: A Brief History, 2001, p. 15) from which it follows that Marxism does not qualify as a scientific system by any accepted standards;\\n\\nv. the evidence indicates that Marxism is closer to a religious sect than to science proper;\\n\\n(f) apologist literature is being quoted in a fraudulent attempt to whitewash Marxist terrorism, in effect turning the discussion into an advertisement for terrorism;\\n\\n(g) it is claimed that Marxist terrorism is not rooted in the Marxist theory of class struggle even though there are numerous sources showing that it is (please note that it is immaterial whether terrorism had already been justified in terms of a theory of class prior to Marx, the point being that it was advocated/practiced on the basis of Marxist class-struggle theories BY MARXISTS):\\n\\n“Karl Marx felt that terror was a necessary part of a revolutionary strategy” (Peter Galvert, “Theories of Terror in Urban Insurrections”, IET, p. 138);\\n\\n“Revolutionary terrorism has its roots in a political ideology, from the Marxist-Leninist thinking of the Left, to the fascists found on the Right” (Noemi Gal-Or, \"\"Revolutionary Terrorism\"\", IET, p. 203);\\n\\n“… perhaps the most important key to Stalin’s motivation lies in the realm of ideology. The leitmotif of Soviet communist ideology in the 1920s and 1930s was class struggle – the inbuilt antagonism between mutually incompatible economic interest groups” (Geoffrey Robert, Stalins Wars, 2006, pp. 17-18);\\n\\nthis fact is supported not only by reliable academic sources, but by elementary logic: \\n\\n“In 1907 Mehring published in the magazine ‘’Neue Zeit (Vol. XXV 2, p. 164) extracts from a letter by Marx to Weydemeyer dated March 5, 1852. In this letter, among other things, is the following noteworthy observation: … class struggle necessarily leads to the dictatorship of the proletariat …”', {'cats': {'toxic': False, 'non_toxic': True}})]\n"
     ]
    }
   ],
   "source": [
    "# Function to transform the data into spaCy format\n",
    "def prepare_spacy_data(comments, labels):\n",
    "    spacy_data = []\n",
    "    for comment, label in zip(comments, labels.values):\n",
    "        # Create a dictionary of labels with their binary values\n",
    "        cats = {\"toxic\": bool(label), \"non_toxic\": not bool(label)}\n",
    "        spacy_data.append((comment, {'cats': cats}))\n",
    "    return spacy_data\n",
    "\n",
    "# Prepare training and validation data\n",
    "train_data_spacy = prepare_spacy_data(X_train, y_train)\n",
    "val_data_spacy = prepare_spacy_data(X_val, y_val)\n",
    "\n",
    "# Print a sample of the processed data\n",
    "print(\"Sample processed data (spaCy format):\")\n",
    "print(train_data_spacy[:3])"
   ]
  },
  {
   "cell_type": "code",
   "execution_count": 6,
   "metadata": {},
   "outputs": [
    {
     "name": "stdout",
     "output_type": "stream",
     "text": [
      "Sample cleaned data (spaCy format):\n",
      "[('grandma terri should burn in trash grandma terri is trash i hate grandma terri fk her to hell 71747640', {'cats': {'toxic': True, 'non_toxic': False}}), (' 9 may 2009 utc it would be easiest if you were to admit to being a member of the involved portuguese lodge and then there would be no requirement to acknowledge whether you had a previous account carlos botelho did not have a good record or not and i would then remove the sockpuppet template as irrelevant wpcoi permits people to edit those articles such as msjapan does but just means you have to be more careful in ensuring that references back your edits and that npov is upheld 2029', {'cats': {'toxic': False, 'non_toxic': True}}), (' the objectivity of this discussion is doubtful nonexistent 1 as indicated earlier the section on marxist leaders views is misleading a it lays unwarranted and excessive emphasis on trotsky creating the misleading impression that other prominent marxists marx engels lenin did not advocate andor practiced terrorism b it lays unwarranted and excessive emphasis on the theoretical rejection of individual terrorism creating the misleading impression that this is the main only marxist position on terrorism 2 the discussion is not being properly monitored a no discernible attempt is being made to establish and maintain an acceptable degree of objectivity b important and relevant scholarly works such as the international encyclopedia of terrorism are being ignored or illicitly excluded from the discussion c though the only logical way to remedy the blatant imbalance in the above section is to include quotes byon other leaders who are known to have endorsed and practiced terrorism all attempts to do so have been systematically blocked with impunity by the apologists for marxist terrorism who have done their best to sabotage and wreck both the article and the discussion 3 among the tactics deployed by the apologist wreckers and saboteurs the following may be identified as representative examples a it is claimed that marx and engels did not advocate terrorism despite the fact that scholarly works like the international encyclopedia of terrorism show that they did and marx himself was known as the red terror doctor b it is claimed that marx and engels were not involved in terrorist activities despite the fact that numerous sources from the neue rheinische zeitung to isaiah berlin and francis wheen state otherwise c it is claimed that lenin does not refer to terror in the proletarian revolution and the renegade k kautsky and other worksstatements despite the fact that robert service iet and other scholarly and reliable sources state that he does d it is claimed that the russian word strakh does not mean terror when i the oxford russian dictionary says that it does ii it is evident from the context that this is the case iii any educated russian speaker can confirm that strakh may mean terror depending on the context e it is claimed that marxism is scientific when in fact i marx was not a scientist ii marxs background was philosophy and law not science iii marxism is not recognized as a science by the academic world iv virtually every one of marxs predictions turned out to be wrong as became increasingly apparent during his lifetime and incontrovertibly so after his death r pipes communism a brief history 2001 p 15 from which it follows that marxism does not qualify as a scientific system by any accepted standards v the evidence indicates that marxism is closer to a religious sect than to science proper f apologist literature is being quoted in a fraudulent attempt to whitewash marxist terrorism in effect turning the discussion into an advertisement for terrorism g it is claimed that marxist terrorism is not rooted in the marxist theory of class struggle even though there are numerous sources showing that it is please note that it is immaterial whether terrorism had already been justified in terms of a theory of class prior to marx the point being that it was advocatedpracticed on the basis of marxist classstruggle theories by marxists karl marx felt that terror was a necessary part of a revolutionary strategy peter galvert theories of terror in urban insurrections iet p 138 revolutionary terrorism has its roots in a political ideology from the marxistleninist thinking of the left to the fascists found on the right noemi galor revolutionary terrorism iet p 203  perhaps the most important key to stalins motivation lies in the realm of ideology the leitmotif of soviet communist ideology in the 1920s and 1930s was class struggle  the inbuilt antagonism between mutually incompatible economic interest groups geoffrey robert stalins wars 2006 pp 1718 this fact is supported not only by reliable academic sources but by elementary logic in 1907 mehring published in the magazine neue zeit vol xxv 2 p 164 extracts from a letter by marx to weydemeyer dated march 5 1852 in this letter among other things is the following noteworthy observation  class struggle necessarily leads to the dictatorship of the proletariat ', {'cats': {'toxic': False, 'non_toxic': True}})]\n"
     ]
    }
   ],
   "source": [
    "# Function to clean text\n",
    "def preprocess_text(text):\n",
    "    text = text.lower()  # Convert to lowercase\n",
    "    text = re.sub(r\"\\s+\", \" \", text)  # Remove extra whitespaces\n",
    "    text = re.sub(r\"http\\S+\", \"\", text)  # Remove URLs\n",
    "    text = re.sub(r\"[^\\w\\s]\", \"\", text)  # Remove punctuation\n",
    "    return text\n",
    "\n",
    "# Apply preprocessing to training and validation data\n",
    "X_train_cleaned = X_train.apply(preprocess_text)\n",
    "X_val_cleaned = X_val.apply(preprocess_text)\n",
    "\n",
    "# Prepare spaCy data again with cleaned text\n",
    "train_data_spacy = prepare_spacy_data(X_train_cleaned, y_train)\n",
    "val_data_spacy = prepare_spacy_data(X_val_cleaned, y_val)\n",
    "\n",
    "print(\"Sample cleaned data (spaCy format):\")\n",
    "print(train_data_spacy[:3])"
   ]
  },
  {
   "cell_type": "code",
   "execution_count": null,
   "metadata": {},
   "outputs": [],
   "source": [
    "# Save processed data to files (optional)\n",
    "# import json\n",
    "\n",
    "# with open(\"train_data_spacy.json\", \"w\") as f:\n",
    "#     json.dump(train_data_spacy, f)\n",
    "\n",
    "# with open(\"val_data_spacy.json\", \"w\") as f:\n",
    "#     json.dump(val_data_spacy, f)\n",
    "\n",
    "# print(\"Preprocessed data saved as JSON files.\")"
   ]
  },
  {
   "cell_type": "code",
   "execution_count": 7,
   "metadata": {},
   "outputs": [
    {
     "name": "stdout",
     "output_type": "stream",
     "text": [
      "Blank spaCy pipeline created.\n"
     ]
    }
   ],
   "source": [
    "# Create a blank spaCy pipeline for English\n",
    "nlp = spacy.blank(\"en\")\n",
    "\n",
    "# Print a confirmation\n",
    "print(\"Blank spaCy pipeline created.\")\n"
   ]
  },
  {
   "cell_type": "code",
   "execution_count": 8,
   "metadata": {},
   "outputs": [
    {
     "name": "stdout",
     "output_type": "stream",
     "text": [
      "\u001b[1m\n",
      "============================= Pipeline Overview =============================\u001b[0m\n",
      "\n",
      "#   Component   Assigns    Requires   Scores            Retokenizes\n",
      "-   ---------   --------   --------   ---------------   -----------\n",
      "0   textcat     doc.cats              cats_score        False      \n",
      "                                      cats_score_desc              \n",
      "                                      cats_micro_p                 \n",
      "                                      cats_micro_r                 \n",
      "                                      cats_micro_f                 \n",
      "                                      cats_macro_p                 \n",
      "                                      cats_macro_r                 \n",
      "                                      cats_macro_f                 \n",
      "                                      cats_macro_auc               \n",
      "                                      cats_f_per_type              \n",
      "\n",
      "\u001b[38;5;2m✔ No problems found.\u001b[0m\n",
      "{'summary': {'textcat': {'assigns': ['doc.cats'], 'requires': [], 'scores': ['cats_score', 'cats_score_desc', 'cats_micro_p', 'cats_micro_r', 'cats_micro_f', 'cats_macro_p', 'cats_macro_r', 'cats_macro_f', 'cats_macro_auc', 'cats_f_per_type'], 'retokenizes': False}}, 'problems': {'textcat': []}, 'attrs': {'doc.cats': {'assigns': ['textcat'], 'requires': []}}}\n"
     ]
    }
   ],
   "source": [
    "config = Config().from_str(single_label_bow_config)\n",
    "textcat = nlp.add_pipe(\"textcat\", config=config)\n",
    "\n",
    "# Add the 2 oposit labels to the text categorizer\n",
    "textcat.add_label(\"toxic\")\n",
    "textcat.add_label(\"non_toxic\")\n",
    "\n",
    "analysis = nlp.analyze_pipes(pretty=True)\n",
    "print(analysis)"
   ]
  },
  {
   "cell_type": "code",
   "execution_count": 9,
   "metadata": {},
   "outputs": [],
   "source": [
    "# Initialize optimizer\n",
    "optimizer = nlp.begin_training()\n",
    "\n",
    "# Training parameters\n",
    "n_iter = 10  # Number of iterations"
   ]
  },
  {
   "cell_type": "code",
   "execution_count": 10,
   "metadata": {},
   "outputs": [
    {
     "name": "stdout",
     "output_type": "stream",
     "text": [
      "Epoch 1, Loss: 265.2737813132777\n",
      "Epoch 2, Loss: 151.47489542328802\n"
     ]
    },
    {
     "ename": "KeyboardInterrupt",
     "evalue": "",
     "output_type": "error",
     "traceback": [
      "\u001b[0;31m---------------------------------------------------------------------------\u001b[0m",
      "\u001b[0;31mKeyboardInterrupt\u001b[0m                         Traceback (most recent call last)",
      "Cell \u001b[0;32mIn[10], line 18\u001b[0m\n\u001b[1;32m     15\u001b[0m         examples\u001b[38;5;241m.\u001b[39mappend(example)\n\u001b[1;32m     17\u001b[0m     \u001b[38;5;66;03m# Update the model with the batch of Example objects\u001b[39;00m\n\u001b[0;32m---> 18\u001b[0m     \u001b[43mnlp\u001b[49m\u001b[38;5;241;43m.\u001b[39;49m\u001b[43mupdate\u001b[49m\u001b[43m(\u001b[49m\u001b[43mexamples\u001b[49m\u001b[43m,\u001b[49m\u001b[43m \u001b[49m\u001b[43mdrop\u001b[49m\u001b[38;5;241;43m=\u001b[39;49m\u001b[38;5;241;43m0.5\u001b[39;49m\u001b[43m,\u001b[49m\u001b[43m \u001b[49m\u001b[43mlosses\u001b[49m\u001b[38;5;241;43m=\u001b[39;49m\u001b[43mlosses\u001b[49m\u001b[43m)\u001b[49m\n\u001b[1;32m     20\u001b[0m \u001b[38;5;28mprint\u001b[39m(\u001b[38;5;124mf\u001b[39m\u001b[38;5;124m\"\u001b[39m\u001b[38;5;124mEpoch \u001b[39m\u001b[38;5;132;01m{\u001b[39;00mepoch\u001b[38;5;250m \u001b[39m\u001b[38;5;241m+\u001b[39m\u001b[38;5;250m \u001b[39m\u001b[38;5;241m1\u001b[39m\u001b[38;5;132;01m}\u001b[39;00m\u001b[38;5;124m, Loss: \u001b[39m\u001b[38;5;132;01m{\u001b[39;00mlosses[\u001b[38;5;124m'\u001b[39m\u001b[38;5;124mtextcat\u001b[39m\u001b[38;5;124m'\u001b[39m]\u001b[38;5;132;01m}\u001b[39;00m\u001b[38;5;124m\"\u001b[39m)\n",
      "File \u001b[0;32m/Library/Frameworks/Python.framework/Versions/3.12/lib/python3.12/site-packages/spacy/language.py:1204\u001b[0m, in \u001b[0;36mLanguage.update\u001b[0;34m(self, examples, _, drop, sgd, losses, component_cfg, exclude, annotates)\u001b[0m\n\u001b[1;32m   1197\u001b[0m \u001b[38;5;28;01mif\u001b[39;00m sgd \u001b[38;5;129;01mnot\u001b[39;00m \u001b[38;5;129;01min\u001b[39;00m (\u001b[38;5;28;01mNone\u001b[39;00m, \u001b[38;5;28;01mFalse\u001b[39;00m):\n\u001b[1;32m   1198\u001b[0m     \u001b[38;5;28;01mif\u001b[39;00m (\n\u001b[1;32m   1199\u001b[0m         name \u001b[38;5;129;01mnot\u001b[39;00m \u001b[38;5;129;01min\u001b[39;00m exclude\n\u001b[1;32m   1200\u001b[0m         \u001b[38;5;129;01mand\u001b[39;00m \u001b[38;5;28misinstance\u001b[39m(proc, ty\u001b[38;5;241m.\u001b[39mTrainableComponent)\n\u001b[1;32m   1201\u001b[0m         \u001b[38;5;129;01mand\u001b[39;00m proc\u001b[38;5;241m.\u001b[39mis_trainable\n\u001b[1;32m   1202\u001b[0m         \u001b[38;5;129;01mand\u001b[39;00m proc\u001b[38;5;241m.\u001b[39mmodel \u001b[38;5;129;01mnot\u001b[39;00m \u001b[38;5;129;01min\u001b[39;00m (\u001b[38;5;28;01mTrue\u001b[39;00m, \u001b[38;5;28;01mFalse\u001b[39;00m, \u001b[38;5;28;01mNone\u001b[39;00m)\n\u001b[1;32m   1203\u001b[0m     ):\n\u001b[0;32m-> 1204\u001b[0m         \u001b[43mproc\u001b[49m\u001b[38;5;241;43m.\u001b[39;49m\u001b[43mfinish_update\u001b[49m\u001b[43m(\u001b[49m\u001b[43msgd\u001b[49m\u001b[43m)\u001b[49m\n\u001b[1;32m   1205\u001b[0m \u001b[38;5;28;01mif\u001b[39;00m name \u001b[38;5;129;01min\u001b[39;00m annotates:\n\u001b[1;32m   1206\u001b[0m     \u001b[38;5;28;01mfor\u001b[39;00m doc, eg \u001b[38;5;129;01min\u001b[39;00m \u001b[38;5;28mzip\u001b[39m(\n\u001b[1;32m   1207\u001b[0m         _pipe(\n\u001b[1;32m   1208\u001b[0m             (eg\u001b[38;5;241m.\u001b[39mpredicted \u001b[38;5;28;01mfor\u001b[39;00m eg \u001b[38;5;129;01min\u001b[39;00m examples),\n\u001b[0;32m   (...)\u001b[0m\n\u001b[1;32m   1214\u001b[0m         examples,\n\u001b[1;32m   1215\u001b[0m     ):\n",
      "File \u001b[0;32m/Library/Frameworks/Python.framework/Versions/3.12/lib/python3.12/site-packages/spacy/pipeline/trainable_pipe.pyx:252\u001b[0m, in \u001b[0;36mspacy.pipeline.trainable_pipe.TrainablePipe.finish_update\u001b[0;34m()\u001b[0m\n",
      "File \u001b[0;32m/Library/Frameworks/Python.framework/Versions/3.12/lib/python3.12/site-packages/thinc/model.py:346\u001b[0m, in \u001b[0;36mModel.finish_update\u001b[0;34m(self, optimizer)\u001b[0m\n\u001b[1;32m    344\u001b[0m \u001b[38;5;28;01mfor\u001b[39;00m name \u001b[38;5;129;01min\u001b[39;00m node\u001b[38;5;241m.\u001b[39mparam_names:\n\u001b[1;32m    345\u001b[0m     \u001b[38;5;28;01mif\u001b[39;00m node\u001b[38;5;241m.\u001b[39mhas_grad(name):\n\u001b[0;32m--> 346\u001b[0m         param, grad \u001b[38;5;241m=\u001b[39m \u001b[43moptimizer\u001b[49m\u001b[43m(\u001b[49m\n\u001b[1;32m    347\u001b[0m \u001b[43m            \u001b[49m\u001b[43m(\u001b[49m\u001b[43mnode\u001b[49m\u001b[38;5;241;43m.\u001b[39;49m\u001b[43mid\u001b[49m\u001b[43m,\u001b[49m\u001b[43m \u001b[49m\u001b[43mname\u001b[49m\u001b[43m)\u001b[49m\u001b[43m,\u001b[49m\u001b[43m \u001b[49m\u001b[43mnode\u001b[49m\u001b[38;5;241;43m.\u001b[39;49m\u001b[43mget_param\u001b[49m\u001b[43m(\u001b[49m\u001b[43mname\u001b[49m\u001b[43m)\u001b[49m\u001b[43m,\u001b[49m\u001b[43m \u001b[49m\u001b[43mnode\u001b[49m\u001b[38;5;241;43m.\u001b[39;49m\u001b[43mget_grad\u001b[49m\u001b[43m(\u001b[49m\u001b[43mname\u001b[49m\u001b[43m)\u001b[49m\n\u001b[1;32m    348\u001b[0m \u001b[43m        \u001b[49m\u001b[43m)\u001b[49m\n\u001b[1;32m    349\u001b[0m         node\u001b[38;5;241m.\u001b[39mset_param(name, param)\n",
      "File \u001b[0;32m/Library/Frameworks/Python.framework/Versions/3.12/lib/python3.12/site-packages/thinc/optimizers.py:234\u001b[0m, in \u001b[0;36mOptimizer.__call__\u001b[0;34m(self, key, weights, gradient, lr_scale)\u001b[0m\n\u001b[1;32m    230\u001b[0m     weights, gradient \u001b[38;5;241m=\u001b[39m \u001b[38;5;28mself\u001b[39m\u001b[38;5;241m.\u001b[39m_radam(\n\u001b[1;32m    231\u001b[0m         ops, weights, gradient, lr_scale, key, nr_upd\n\u001b[1;32m    232\u001b[0m     )\n\u001b[1;32m    233\u001b[0m \u001b[38;5;28;01melif\u001b[39;00m \u001b[38;5;28mself\u001b[39m\u001b[38;5;241m.\u001b[39mb1 \u001b[38;5;241m>\u001b[39m \u001b[38;5;241m0.0\u001b[39m \u001b[38;5;129;01mand\u001b[39;00m \u001b[38;5;28mself\u001b[39m\u001b[38;5;241m.\u001b[39mb2 \u001b[38;5;241m>\u001b[39m \u001b[38;5;241m0.0\u001b[39m:\n\u001b[0;32m--> 234\u001b[0m     weights, gradient \u001b[38;5;241m=\u001b[39m \u001b[38;5;28;43mself\u001b[39;49m\u001b[38;5;241;43m.\u001b[39;49m\u001b[43m_adam\u001b[49m\u001b[43m(\u001b[49m\n\u001b[1;32m    235\u001b[0m \u001b[43m        \u001b[49m\u001b[43mops\u001b[49m\u001b[43m,\u001b[49m\u001b[43m \u001b[49m\u001b[43mweights\u001b[49m\u001b[43m,\u001b[49m\u001b[43m \u001b[49m\u001b[43mgradient\u001b[49m\u001b[43m,\u001b[49m\u001b[43m \u001b[49m\u001b[43mlr_scale\u001b[49m\u001b[43m,\u001b[49m\u001b[43m \u001b[49m\u001b[43mkey\u001b[49m\u001b[43m,\u001b[49m\u001b[43m \u001b[49m\u001b[43mnr_upd\u001b[49m\n\u001b[1;32m    236\u001b[0m \u001b[43m    \u001b[49m\u001b[43m)\u001b[49m\n\u001b[1;32m    237\u001b[0m \u001b[38;5;28;01melif\u001b[39;00m \u001b[38;5;28mself\u001b[39m\u001b[38;5;241m.\u001b[39mb2 \u001b[38;5;241m>\u001b[39m \u001b[38;5;241m0.0\u001b[39m:  \u001b[38;5;66;03m# pragma: no cover\u001b[39;00m\n\u001b[1;32m    238\u001b[0m     \u001b[38;5;28;01mraise\u001b[39;00m \u001b[38;5;167;01mNotImplementedError\u001b[39;00m  \u001b[38;5;66;03m# TODO: error message\u001b[39;00m\n",
      "File \u001b[0;32m/Library/Frameworks/Python.framework/Versions/3.12/lib/python3.12/site-packages/thinc/optimizers.py:344\u001b[0m, in \u001b[0;36mOptimizer._adam\u001b[0;34m(self, ops, weights, gradient, lr_scale, key, nr_upd)\u001b[0m\n\u001b[1;32m    342\u001b[0m eps \u001b[38;5;241m=\u001b[39m \u001b[38;5;28mself\u001b[39m\u001b[38;5;241m.\u001b[39meps\n\u001b[1;32m    343\u001b[0m \u001b[38;5;66;03m# needs to be 1D going into the adam function\u001b[39;00m\n\u001b[0;32m--> 344\u001b[0m weights_1D, gradient_1D, mom1, mom2 \u001b[38;5;241m=\u001b[39m \u001b[43mops\u001b[49m\u001b[38;5;241;43m.\u001b[39;49m\u001b[43madam\u001b[49m\u001b[43m(\u001b[49m\n\u001b[1;32m    345\u001b[0m \u001b[43m    \u001b[49m\u001b[43mweights_1D\u001b[49m\u001b[43m,\u001b[49m\u001b[43m \u001b[49m\u001b[43mgradient_1D\u001b[49m\u001b[43m,\u001b[49m\u001b[43m \u001b[49m\u001b[43mmom1\u001b[49m\u001b[43m,\u001b[49m\u001b[43m \u001b[49m\u001b[43mmom2\u001b[49m\u001b[43m,\u001b[49m\u001b[43m \u001b[49m\u001b[43mb1\u001b[49m\u001b[43m,\u001b[49m\u001b[43m \u001b[49m\u001b[43mb2\u001b[49m\u001b[43m,\u001b[49m\u001b[43m \u001b[49m\u001b[43meps\u001b[49m\u001b[43m,\u001b[49m\u001b[43m \u001b[49m\u001b[43mlr\u001b[49m\u001b[43m \u001b[49m\u001b[38;5;241;43m*\u001b[39;49m\u001b[43m \u001b[49m\u001b[43mlr_scale\u001b[49m\n\u001b[1;32m    346\u001b[0m \u001b[43m\u001b[49m\u001b[43m)\u001b[49m\n\u001b[1;32m    347\u001b[0m \u001b[38;5;28mself\u001b[39m\u001b[38;5;241m.\u001b[39mmom1[key] \u001b[38;5;241m=\u001b[39m mom1\n\u001b[1;32m    348\u001b[0m \u001b[38;5;28mself\u001b[39m\u001b[38;5;241m.\u001b[39mmom2[key] \u001b[38;5;241m=\u001b[39m mom2\n",
      "\u001b[0;31mKeyboardInterrupt\u001b[0m: "
     ]
    }
   ],
   "source": [
    "# Training loop\n",
    "for epoch in range(n_iter):\n",
    "    random.shuffle(train_data_spacy)  # Shuffle training data each epoch\n",
    "    losses = {}\n",
    "    \n",
    "    # Create batches of data\n",
    "    batches = minibatch(train_data_spacy, size=compounding(4.0, 32.0, 1.001))\n",
    "    \n",
    "    for batch in batches:\n",
    "        examples = []\n",
    "        for text, annotations in batch:\n",
    "            # Create Example objects\n",
    "            doc = nlp.make_doc(text)\n",
    "            example = Example.from_dict(doc, {\"cats\": annotations[\"cats\"]})  # Single-label format\n",
    "            examples.append(example)\n",
    "        \n",
    "        # Update the model with the batch of Example objects\n",
    "        nlp.update(examples, drop=0.5, losses=losses)\n",
    "    \n",
    "    print(f\"Epoch {epoch + 1}, Loss: {losses['textcat']}\")"
   ]
  },
  {
   "cell_type": "code",
   "execution_count": 11,
   "metadata": {},
   "outputs": [
    {
     "name": "stdout",
     "output_type": "stream",
     "text": [
      "              precision    recall  f1-score   support\n",
      "\n",
      "       toxic       0.87      0.68      0.76      3056\n",
      "   non_toxic       0.97      0.99      0.98     28859\n",
      "\n",
      "   micro avg       0.96      0.96      0.96     31915\n",
      "   macro avg       0.92      0.83      0.87     31915\n",
      "weighted avg       0.96      0.96      0.96     31915\n",
      " samples avg       0.96      0.96      0.96     31915\n",
      "\n"
     ]
    },
    {
     "name": "stderr",
     "output_type": "stream",
     "text": [
      "/Library/Frameworks/Python.framework/Versions/3.12/lib/python3.12/site-packages/sklearn/metrics/_classification.py:1531: UndefinedMetricWarning: Precision is ill-defined and being set to 0.0 in samples with no predicted labels. Use `zero_division` parameter to control this behavior.\n",
      "  _warn_prf(average, modifier, f\"{metric.capitalize()} is\", len(result))\n"
     ]
    }
   ],
   "source": [
    "# Collect predictions and true labels\n",
    "true_labels = []\n",
    "pred_labels = []\n",
    "\n",
    "for text, annotations in val_data_spacy:  # val_data is a list of (text, annotations)\n",
    "    # Convert the text and annotations into an Example\n",
    "    example = spacy.training.Example.from_dict(nlp.make_doc(text), {\"cats\": annotations[\"cats\"]})\n",
    "    \n",
    "    # Process the text with the model\n",
    "    doc = nlp(example.text)\n",
    "    \n",
    "    # Collect the predictions\n",
    "    pred_labels.append({label: doc.cats[label] for label in doc.cats})\n",
    "    \n",
    "    # Collect the true labels\n",
    "    true_labels.append(annotations[\"cats\"])\n",
    "\n",
    "# Convert predictions to binary based on threshold\n",
    "threshold = 0.5\n",
    "pred_binary = [\n",
    "    {label: int(score >= threshold) for label, score in pred.items()}\n",
    "    for pred in pred_labels\n",
    "]\n",
    "\n",
    "# Extract the keys (categories/labels) in a consistent order\n",
    "categories = list(true_labels[0].keys())\n",
    "\n",
    "# Convert dictionaries to 2D arrays for sklearn\n",
    "true_array = np.array([[label_dict[cat] for cat in categories] for label_dict in true_labels])\n",
    "pred_array = np.array([[label_dict[cat] for cat in categories] for label_dict in pred_binary])\n",
    "\n",
    "# Evaluate using sklearn's classification report\n",
    "print(classification_report(true_array, pred_array, target_names=categories))"
   ]
  }
 ],
 "metadata": {
  "kernelspec": {
   "display_name": "Python 3",
   "language": "python",
   "name": "python3"
  },
  "language_info": {
   "codemirror_mode": {
    "name": "ipython",
    "version": 3
   },
   "file_extension": ".py",
   "mimetype": "text/x-python",
   "name": "python",
   "nbconvert_exporter": "python",
   "pygments_lexer": "ipython3",
   "version": "3.12.3"
  }
 },
 "nbformat": 4,
 "nbformat_minor": 2
}
